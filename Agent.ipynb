{
 "cells": [
  {
   "cell_type": "markdown",
   "id": "e9c29464",
   "metadata": {},
   "source": [
    "### Libraries "
   ]
  },
  {
   "cell_type": "code",
   "execution_count": 5,
   "id": "4e638d4e",
   "metadata": {},
   "outputs": [],
   "source": [
    "from openai import OpenAI\n",
    "import numpy as np"
   ]
  },
  {
   "cell_type": "markdown",
   "id": "a7123018",
   "metadata": {},
   "source": [
    "### Parameters"
   ]
  },
  {
   "cell_type": "code",
   "execution_count": 9,
   "id": "e7f53e23",
   "metadata": {},
   "outputs": [],
   "source": [
    "AG_api_key = \"your_api_key_here\"  \n"
   ]
  },
  {
   "cell_type": "code",
   "execution_count": 10,
   "id": "426b119b",
   "metadata": {},
   "outputs": [],
   "source": [
    "client = OpenAI(api_key=AG_api_key)"
   ]
  }
 ],
 "metadata": {
  "kernelspec": {
   "display_name": "Python 3",
   "language": "python",
   "name": "python3"
  },
  "language_info": {
   "codemirror_mode": {
    "name": "ipython",
    "version": 3
   },
   "file_extension": ".py",
   "mimetype": "text/x-python",
   "name": "python",
   "nbconvert_exporter": "python",
   "pygments_lexer": "ipython3",
   "version": "3.13.5"
  }
 },
 "nbformat": 4,
 "nbformat_minor": 5
}
